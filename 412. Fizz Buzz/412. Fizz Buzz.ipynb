{
 "cells": [
  {
   "cell_type": "code",
   "execution_count": 46,
   "metadata": {},
   "outputs": [
    {
     "name": "stdout",
     "output_type": "stream",
     "text": [
      "['1', '2', 'Fizz', '4', 'Buzz', 'Fizz', '7', '8', 'Fizz', 'Buzz', '11', 'Fizz', '13', '14', 'FizzBuzz']\n"
     ]
    }
   ],
   "source": [
    "class Solution:\n",
    "    def fizzBuzz(self, n: 'int') -> 'List[str]':\n",
    "        arr = []\n",
    "        count = 1\n",
    "        while count<=n:\n",
    "            if (count%5==0 and count%3==0):\n",
    "                arr.append(\"FizzBuzz\")                \n",
    "            elif (count%3==0):\n",
    "                arr.append(\"Fizz\")\n",
    "            elif (count%5==0):\n",
    "                arr.append(\"Buzz\")\n",
    "            else:\n",
    "                arr.append(str(count))            \n",
    "            count += 1\n",
    "        return arr\n",
    "if __name__ == '__main__':\n",
    "    s = Solution()\n",
    "    A = 15\n",
    "    print(s.fizzBuzz(A))"
   ]
  },
  {
   "cell_type": "code",
   "execution_count": null,
   "metadata": {},
   "outputs": [],
   "source": []
  }
 ],
 "metadata": {
  "kernelspec": {
   "display_name": "Python 3",
   "language": "python",
   "name": "python3"
  },
  "language_info": {
   "codemirror_mode": {
    "name": "ipython",
    "version": 3
   },
   "file_extension": ".py",
   "mimetype": "text/x-python",
   "name": "python",
   "nbconvert_exporter": "python",
   "pygments_lexer": "ipython3",
   "version": "3.6.5"
  }
 },
 "nbformat": 4,
 "nbformat_minor": 2
}
