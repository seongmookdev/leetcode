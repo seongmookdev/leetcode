{
 "cells": [
  {
   "cell_type": "code",
   "execution_count": 17,
   "metadata": {},
   "outputs": [
    {
     "name": "stdout",
     "output_type": "stream",
     "text": [
      "[0, 4, 1, 3, 2]\n"
     ]
    }
   ],
   "source": [
    "class Solution:\n",
    "    def diStringMatch(self, S):\n",
    "        lo, hi = 0, len(S)\n",
    "        ans = []\n",
    "        for x in S:\n",
    "            if x == 'I':\n",
    "                ans.append(lo)\n",
    "                lo += 1\n",
    "            else:\n",
    "                ans.append(hi)\n",
    "                hi -= 1\n",
    "        return ans+[hi]\n",
    "                \n",
    "\n",
    "if __name__ == '__main__':\n",
    "    s = Solution()\n",
    "    A = \"IDID\"\n",
    "    print(s.diStringMatch(A))"
   ]
  },
  {
   "cell_type": "code",
   "execution_count": null,
   "metadata": {},
   "outputs": [],
   "source": [
    "\n"
   ]
  }
 ],
 "metadata": {
  "kernelspec": {
   "display_name": "Python 3",
   "language": "python",
   "name": "python3"
  },
  "language_info": {
   "codemirror_mode": {
    "name": "ipython",
    "version": 3
   },
   "file_extension": ".py",
   "mimetype": "text/x-python",
   "name": "python",
   "nbconvert_exporter": "python",
   "pygments_lexer": "ipython3",
   "version": "3.6.5"
  }
 },
 "nbformat": 4,
 "nbformat_minor": 2
}
