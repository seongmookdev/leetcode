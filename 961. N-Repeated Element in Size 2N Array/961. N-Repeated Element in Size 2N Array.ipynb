{
 "cells": [
  {
   "cell_type": "code",
   "execution_count": 1,
   "metadata": {},
   "outputs": [
    {
     "name": "stdout",
     "output_type": "stream",
     "text": [
      "2\n"
     ]
    }
   ],
   "source": [
    "class Solution:\n",
    "    def repeatedNTimes(self, A):\n",
    "        \"\"\"\n",
    "        :type A: List[int]\n",
    "        :rtype: int\n",
    "        \"\"\"\n",
    "        seen_number = set()\n",
    "        for num in A:\n",
    "            if num not in seen_number:\n",
    "                seen_number.add(num)\n",
    "            else:\n",
    "                return num\n",
    "                \n",
    "d = [1,2,2,5,3,2]\n",
    "a = Solution()\n",
    "print(a.repeatedNTimes(d))"
   ]
  },
  {
   "cell_type": "code",
   "execution_count": 2,
   "metadata": {},
   "outputs": [
    {
     "name": "stdout",
     "output_type": "stream",
     "text": [
      "2\n"
     ]
    }
   ],
   "source": [
    "class Solution:\n",
    "    def repeatedNTimes(self, A):\n",
    "        \"\"\"\n",
    "        :type A: List[int]\n",
    "        :rtype: int\n",
    "        \"\"\"\n",
    "        N = len(A)/2\n",
    "        buf = []\n",
    "        for i in range(0,len(A)):\n",
    "            if(A.count(A[i]) == N):\n",
    "                return A[i]\n",
    "\n",
    "d = [1,2,2,5,3,2]\n",
    "a = Solution()\n",
    "print(a.repeatedNTimes(d))"
   ]
  },
  {
   "cell_type": "code",
   "execution_count": null,
   "metadata": {},
   "outputs": [],
   "source": []
  }
 ],
 "metadata": {
  "kernelspec": {
   "display_name": "Python 3",
   "language": "python",
   "name": "python3"
  },
  "language_info": {
   "codemirror_mode": {
    "name": "ipython",
    "version": 3
   },
   "file_extension": ".py",
   "mimetype": "text/x-python",
   "name": "python",
   "nbconvert_exporter": "python",
   "pygments_lexer": "ipython3",
   "version": "3.6.5"
  }
 },
 "nbformat": 4,
 "nbformat_minor": 2
}
