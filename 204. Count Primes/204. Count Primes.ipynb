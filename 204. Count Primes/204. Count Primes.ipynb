{
 "cells": [
  {
   "cell_type": "code",
   "execution_count": 16,
   "metadata": {},
   "outputs": [
    {
     "name": "stdout",
     "output_type": "stream",
     "text": [
      "[False, False, True, True, True, True, True, True, True, True, True, True, True, True, True, True]\n",
      "i: 2\n",
      "j: 4\n",
      "j: 6\n",
      "j: 8\n",
      "j: 10\n",
      "j: 12\n",
      "j: 14\n",
      "i: 3\n",
      "j: 6\n",
      "j: 9\n",
      "j: 12\n",
      "j: 15\n",
      "i: 4\n",
      "j: 8\n",
      "j: 12\n",
      "i: 5\n",
      "j: 10\n",
      "j: 15\n",
      "i: 6\n",
      "j: 12\n",
      "i: 7\n",
      "j: 14\n",
      "i: 8\n",
      "i: 9\n",
      "i: 10\n",
      "i: 11\n",
      "i: 12\n",
      "i: 13\n",
      "i: 14\n",
      "i: 15\n"
     ]
    }
   ],
   "source": [
    "class Solution:\n",
    "    def is_prime_bad(self, n):\n",
    "        \"\"\"\n",
    "        :type n: int\n",
    "        :rtype: int\n",
    "        \"\"\"\n",
    "        a = [False, False] + [True]*(n-1)\n",
    "        print(a)\n",
    "        primes = []\n",
    "             \n",
    "        for i in range(2,n+1):\n",
    "            print('i:',i)\n",
    "            if a[i]:\n",
    "                primes.append(i)\n",
    "            for j in range(2*i, n+1, i):\n",
    "                print('j:',j)\n",
    "                a[j] = False\n",
    "        return len(primes)\n",
    "        \n",
    "if __name__ == '__main__':\n",
    "    s = Solution()\n",
    "    n = 15\n",
    "    s.is_prime_bad(n)"
   ]
  },
  {
   "cell_type": "code",
   "execution_count": null,
   "metadata": {},
   "outputs": [],
   "source": []
  }
 ],
 "metadata": {
  "kernelspec": {
   "display_name": "Python 3",
   "language": "python",
   "name": "python3"
  },
  "language_info": {
   "codemirror_mode": {
    "name": "ipython",
    "version": 3
   },
   "file_extension": ".py",
   "mimetype": "text/x-python",
   "name": "python",
   "nbconvert_exporter": "python",
   "pygments_lexer": "ipython3",
   "version": "3.6.5"
  }
 },
 "nbformat": 4,
 "nbformat_minor": 2
}
