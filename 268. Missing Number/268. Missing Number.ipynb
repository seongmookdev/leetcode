{
 "cells": [
  {
   "cell_type": "code",
   "execution_count": 32,
   "metadata": {},
   "outputs": [
    {
     "name": "stdout",
     "output_type": "stream",
     "text": [
      "[2]\n"
     ]
    }
   ],
   "source": [
    "class Solution:\n",
    "    def missingNumber(self, nums: 'List[int]') -> 'int':\n",
    "        l = max(nums)+1\n",
    "        tp = []\n",
    "        for i in range(l):\n",
    "            tp.append(i)\n",
    "        for i in nums:\n",
    "            tp.remove(i)\n",
    "        return tp[:]\n",
    "\n",
    "if __name__ == '__main__':\n",
    "    s = Solution()\n",
    "    A = [3,0,1]\n",
    "    print(s.missingNumber(A))"
   ]
  },
  {
   "cell_type": "code",
   "execution_count": 35,
   "metadata": {},
   "outputs": [
    {
     "name": "stdout",
     "output_type": "stream",
     "text": [
      "[0, 1, 2, 3]\n",
      "2\n"
     ]
    }
   ],
   "source": [
    "class Solution:\n",
    "    def missingNumber(self, nums: 'List[int]') -> 'int':\n",
    "        a= []\n",
    "        l = len(nums)+1\n",
    "        for i in range(l):\n",
    "            a.append(i)\n",
    "        return sum(a)-sum(nums)\n",
    "\n",
    "if __name__ == '__main__':\n",
    "    s = Solution()\n",
    "    A = [3,0,1]\n",
    "    print(s.missingNumber(A))"
   ]
  },
  {
   "cell_type": "code",
   "execution_count": null,
   "metadata": {},
   "outputs": [],
   "source": [
    "\n"
   ]
  }
 ],
 "metadata": {
  "kernelspec": {
   "display_name": "Python 3",
   "language": "python",
   "name": "python3"
  },
  "language_info": {
   "codemirror_mode": {
    "name": "ipython",
    "version": 3
   },
   "file_extension": ".py",
   "mimetype": "text/x-python",
   "name": "python",
   "nbconvert_exporter": "python",
   "pygments_lexer": "ipython3",
   "version": "3.6.5"
  }
 },
 "nbformat": 4,
 "nbformat_minor": 2
}
