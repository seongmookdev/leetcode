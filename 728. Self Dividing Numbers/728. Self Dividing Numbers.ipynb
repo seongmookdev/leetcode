{
 "cells": [
  {
   "cell_type": "code",
   "execution_count": 18,
   "metadata": {},
   "outputs": [
    {
     "name": "stdout",
     "output_type": "stream",
     "text": [
      "[1, 2, 3, 4, 5, 6, 7, 8, 9, 11, 12, 15, 22]\n"
     ]
    }
   ],
   "source": [
    "class Solution:\n",
    "\n",
    "    def is_self_dividing(self,x):\n",
    "        s = str(x)\n",
    "        for d in s:\n",
    "            if d=='0' or x%int(d)!=0:\n",
    "                return False\n",
    "        return True\n",
    "    \n",
    "    def selfDividingNumbers(self, left, right):\n",
    "        \"\"\"\n",
    "        :type left: int\n",
    "        :type right: int\n",
    "        :rtype: List[int]\n",
    "        \"\"\"\n",
    "        ans = []\n",
    "        for x in range(left, right+1):\n",
    "            if self.is_self_dividing(x):\n",
    "                ans.append(x)\n",
    "        return ans\n",
    "                \n",
    "                \n",
    "if __name__ == '__main__':\n",
    "    s = Solution()\n",
    "    print(s.selfDividingNumbers(1,22))\n",
    "    "
   ]
  },
  {
   "cell_type": "code",
   "execution_count": null,
   "metadata": {},
   "outputs": [],
   "source": [
    "\n"
   ]
  }
 ],
 "metadata": {
  "kernelspec": {
   "display_name": "Python 3",
   "language": "python",
   "name": "python3"
  },
  "language_info": {
   "codemirror_mode": {
    "name": "ipython",
    "version": 3
   },
   "file_extension": ".py",
   "mimetype": "text/x-python",
   "name": "python",
   "nbconvert_exporter": "python",
   "pygments_lexer": "ipython3",
   "version": "3.6.5"
  }
 },
 "nbformat": 4,
 "nbformat_minor": 2
}
