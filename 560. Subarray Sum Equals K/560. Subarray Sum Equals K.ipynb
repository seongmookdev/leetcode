{
 "cells": [
  {
   "cell_type": "code",
   "execution_count": 47,
   "metadata": {},
   "outputs": [
    {
     "name": "stdout",
     "output_type": "stream",
     "text": [
      "4\n"
     ]
    }
   ],
   "source": [
    "class Solution:\n",
    "    def subarraySum(self, nums: 'List[int]', k: 'int') -> 'int':\n",
    "        count, cur, res = {0:1}, 0, 0\n",
    "        for v in nums:\n",
    "            cur += v\n",
    "            res += count.get(cur-k, 0)\n",
    "            count[cur] = count.get(cur,0)+1\n",
    "        return res\n",
    "    \n",
    "if __name__ == '__main__':\n",
    "    s = Solution()\n",
    "    print(s.subarraySum([1,2,1,2,1],3))"
   ]
  },
  {
   "cell_type": "code",
   "execution_count": null,
   "metadata": {},
   "outputs": [],
   "source": [
    "\n"
   ]
  }
 ],
 "metadata": {
  "kernelspec": {
   "display_name": "Python 3",
   "language": "python",
   "name": "python3"
  },
  "language_info": {
   "codemirror_mode": {
    "name": "ipython",
    "version": 3
   },
   "file_extension": ".py",
   "mimetype": "text/x-python",
   "name": "python",
   "nbconvert_exporter": "python",
   "pygments_lexer": "ipython3",
   "version": "3.6.5"
  }
 },
 "nbformat": 4,
 "nbformat_minor": 2
}
