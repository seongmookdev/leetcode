{
 "cells": [
  {
   "cell_type": "code",
   "execution_count": 15,
   "metadata": {},
   "outputs": [
    {
     "name": "stdout",
     "output_type": "stream",
     "text": [
      "[4, 9, 9, 49, 121]\n"
     ]
    }
   ],
   "source": [
    "class Solution:\n",
    "    def sortedSquares(self, A):\n",
    "        answer = [0]*len(A)\n",
    "        l,r = 0, len(A)-1\n",
    "        while l<=r:\n",
    "            left, right = abs(A[l]), abs(A[r])\n",
    "            if left > right:\n",
    "                answer[r-l] = left*left\n",
    "                l += 1\n",
    "            else:\n",
    "                answer[r-l] = right*right\n",
    "                r -= 1\n",
    "        return answer\n",
    "\n",
    "if __name__ == '__main__':\n",
    "    s = Solution()\n",
    "    A = [-7,-3,2,3,11]\n",
    "    print(s.sortedSquares(A))\n",
    "        "
   ]
  },
  {
   "cell_type": "code",
   "execution_count": null,
   "metadata": {},
   "outputs": [],
   "source": []
  },
  {
   "cell_type": "code",
   "execution_count": null,
   "metadata": {},
   "outputs": [],
   "source": []
  }
 ],
 "metadata": {
  "kernelspec": {
   "display_name": "Python 3",
   "language": "python",
   "name": "python3"
  },
  "language_info": {
   "codemirror_mode": {
    "name": "ipython",
    "version": 3
   },
   "file_extension": ".py",
   "mimetype": "text/x-python",
   "name": "python",
   "nbconvert_exporter": "python",
   "pygments_lexer": "ipython3",
   "version": "3.6.5"
  }
 },
 "nbformat": 4,
 "nbformat_minor": 2
}
